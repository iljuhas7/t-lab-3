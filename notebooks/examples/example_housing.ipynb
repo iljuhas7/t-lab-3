{
 "cells": [
  {
   "cell_type": "code",
   "execution_count": 24,
   "metadata": {},
   "outputs": [
    {
     "name": "stdout",
     "output_type": "stream",
     "text": [
      "[[-4.14106096e+03]\n",
      " [ 3.55197583e+00]\n",
      " [ 1.66328263e+03]\n",
      " [ 1.45465644e+04]\n",
      " [ 6.77755381e+03]\n",
      " [ 6.58750520e+03]\n",
      " [ 4.44683380e+03]\n",
      " [ 5.60834856e+03]\n",
      " [ 1.27979572e+04]\n",
      " [ 1.24091640e+04]\n",
      " [ 4.19931185e+03]\n",
      " [ 9.42215457e+03]]\n",
      "Прогноз = 97360.65509691095 фактический = 82500.0\n",
      "Прогноз = 71774.16590136985 фактический = 83000.0\n",
      "Прогноз = 92359.0891976023 фактический = 84000.0\n",
      "Прогноз = 77748.27423790596 фактический = 85000.0\n",
      "Прогноз = 91015.59030664092 фактический = 85000.0\n",
      "Прогноз = 97545.1179047323 фактический = 91500.0\n",
      "Прогноз = 97360.65509691095 фактический = 94000.0\n",
      "Прогноз = 106006.8007559811 фактический = 103000.0\n",
      "Прогноз = 92451.6931269468 фактический = 105000.0\n",
      "Прогноз = 73458.29493810149 фактический = 105000.0\n"
     ]
    }
   ],
   "source": [
    "import csv\n",
    "import numpy as np\n",
    "\n",
    "def readData():\n",
    "    X = []\n",
    "    y = []\n",
    "    with open('Housing.csv') as f:\n",
    "        rdr = csv.reader(f)\n",
    "        next(rdr)\n",
    "        \n",
    "        for line in rdr:\n",
    "            xline = [1.0]\n",
    "            for s in line[:-1]:\n",
    "                xline.append(float(s))\n",
    "            X.append(xline)\n",
    "            y.append(float(line[-1]))\n",
    "    return (X,y)\n",
    "\n",
    "X0,y0 = readData()\n",
    "\n",
    "d = len(X0)-10\n",
    "X = np.array(X0[:d])\n",
    "y = (np.array([y0[:d]])).T\n",
    "\n",
    "XtX = np.dot(X.T,X)\n",
    "Xty = np.dot(X.T,y)\n",
    "l1 = np.linalg.solve(XtX,Xty)\n",
    "print(l1)\n",
    "\n",
    "for data,actual in zip(X0[d:],y0[d:]):\n",
    "    x = np.array([data])\n",
    "    prediction = np.dot(x, l1)\n",
    "    print('Прогноз = ' + str(prediction[0,0]) + ' фактический = ' + str(actual))\n"
   ]
  }
 ],
 "metadata": {
  "kernelspec": {
   "display_name": "Python 3",
   "language": "python",
   "name": "python3"
  },
  "language_info": {
   "codemirror_mode": {
    "name": "ipython",
    "version": 3
   },
   "file_extension": ".py",
   "mimetype": "text/x-python",
   "name": "python",
   "nbconvert_exporter": "python",
   "pygments_lexer": "ipython3",
   "version": "3.8.10"
  }
 },
 "nbformat": 4,
 "nbformat_minor": 4
}
