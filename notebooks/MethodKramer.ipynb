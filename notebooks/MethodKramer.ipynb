{
 "cells": [
  {
   "cell_type": "code",
   "execution_count": 2,
   "metadata": {},
   "outputs": [
    {
     "name": "stdout",
     "output_type": "stream",
     "text": [
      "[1. 2. 3.]\n"
     ]
    }
   ],
   "source": [
    "import numpy as np\n",
    "\n",
    "def cramer(mat, constant):\n",
    "    D = np.linalg.det(mat)\n",
    "    mat1 = np.array([constant, mat[:, 1], mat[:, 2]])\n",
    "    mat2 = np.array([mat[:, 0], constant, mat[:, 2]])\n",
    "    mat3 = np.array([mat[:, 0], mat[:, 1], constant])\n",
    "    Dx = np.linalg.det([mat1, mat2, mat3])\n",
    "    X = Dx/D\n",
    "    print(X)\n",
    "    \n",
    "    \n",
    "a = np.array([[10, 40, 70],\n",
    "             [20, 50, 80],\n",
    "             [30, 60, 80]])\n",
    "\n",
    "b = np.array([300, 360, 390])\n",
    "\n",
    "cramer(a,b)"
   ]
  }
 ],
 "metadata": {
  "kernelspec": {
   "display_name": "Python 3",
   "language": "python",
   "name": "python3"
  },
  "language_info": {
   "codemirror_mode": {
    "name": "ipython",
    "version": 3
   },
   "file_extension": ".py",
   "mimetype": "text/x-python",
   "name": "python",
   "nbconvert_exporter": "python",
   "pygments_lexer": "ipython3",
   "version": "3.8.10"
  }
 },
 "nbformat": 4,
 "nbformat_minor": 4
}
